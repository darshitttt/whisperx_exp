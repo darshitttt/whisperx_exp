{
 "cells": [
  {
   "cell_type": "code",
   "execution_count": 1,
   "metadata": {},
   "outputs": [],
   "source": [
    "import pandas as pd\n",
    "import librosa\n",
    "import numpy as np\n",
    "import os\n",
    "import joblib\n",
    "from sklearn.preprocessing import StandardScaler"
   ]
  },
  {
   "cell_type": "code",
   "execution_count": 12,
   "metadata": {},
   "outputs": [],
   "source": [
    "model_dir = 'trained_models/speakerGender_KaggleVAD/'\n",
    "\n",
    "# Function to extract features (same as before)\n",
    "def extract_features(file_path):\n",
    "    y, sr = librosa.load(file_path)\n",
    "    mfccs = np.mean(librosa.feature.mfcc(y=y, sr=sr, n_mfcc=13).T, axis=0)\n",
    "    chroma = np.mean(librosa.feature.chroma_stft(y=y, sr=sr, n_fft=512).T, axis=0)\n",
    "    mel = np.mean(librosa.feature.melspectrogram(y=y, sr=sr, n_fft=512).T, axis=0)\n",
    "    contrast = np.mean(librosa.feature.spectral_contrast(y=y, sr=sr, n_fft=512).T, axis=0)\n",
    "    tonnetz = np.mean(librosa.feature.tonnetz(y=y, sr=sr).T, axis=0)\n",
    "    return np.hstack([mfccs, chroma, mel, contrast, tonnetz])\n",
    "\n",
    "# Example: Load a model and make a prediction\n",
    "model_name = 'Logistic Regression'  # Choose the model you want to use\n",
    "model = joblib.load(os.path.join(model_dir, f\"{model_name}.pkl\"))"
   ]
  },
  {
   "cell_type": "code",
   "execution_count": 22,
   "metadata": {},
   "outputs": [],
   "source": [
    "#sample_file = '../../LibriVox_Kaggle/achtgesichterambiwasse/achtgesichterambiwasse_0000.wav'\n",
    "#sample_file = '../FSMN-VAD/asr_example.wav'\n",
    "sample_file = '../audioData/VoxConverse/audio/hqyok.wav'\n",
    "\n",
    "features = extract_features(sample_file)\n",
    "scaler = joblib.load(os.path.join(model_dir, 'scaler.pkl'))\n",
    "features = scaler.transform([features])"
   ]
  },
  {
   "cell_type": "code",
   "execution_count": 23,
   "metadata": {},
   "outputs": [
    {
     "data": {
      "text/plain": [
       "array(['Male'], dtype=object)"
      ]
     },
     "execution_count": 23,
     "metadata": {},
     "output_type": "execute_result"
    }
   ],
   "source": [
    "# Make preds\n",
    "prediction = model.predict(features)\n",
    "encoder = joblib.load(os.path.join(model_dir, 'label_encoder.pkl'))\n",
    "encoder.inverse_transform(prediction)"
   ]
  }
 ],
 "metadata": {
  "kernelspec": {
   "display_name": "whisperx_",
   "language": "python",
   "name": "python3"
  },
  "language_info": {
   "codemirror_mode": {
    "name": "ipython",
    "version": 3
   },
   "file_extension": ".py",
   "mimetype": "text/x-python",
   "name": "python",
   "nbconvert_exporter": "python",
   "pygments_lexer": "ipython3",
   "version": "3.10.14"
  }
 },
 "nbformat": 4,
 "nbformat_minor": 2
}
