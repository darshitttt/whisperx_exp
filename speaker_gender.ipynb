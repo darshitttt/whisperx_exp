{
 "cells": [
  {
   "cell_type": "code",
   "execution_count": 35,
   "metadata": {},
   "outputs": [],
   "source": [
    "from textgrid import TextGrid\n",
    "import os\n",
    "import librosa\n",
    "import pandas as pd\n",
    "from IPython.display import display, Audio"
   ]
  },
  {
   "cell_type": "code",
   "execution_count": 31,
   "metadata": {},
   "outputs": [],
   "source": [
    "dataset_dir = '../audioData/VAD_Kaggle/Data/'\n",
    "annot_dir = os.path.join(dataset_dir, 'Annotation')\n",
    "audio_dir = os.path.join(dataset_dir, 'Audio')\n",
    "\n",
    "audioFile_list = []\n",
    "annotation_list = []\n",
    "label_list = []\n",
    "\n",
    "for i in os.listdir(audio_dir):\n",
    "    if i == 'Noizeus':\n",
    "        continue\n",
    "    else:\n",
    "        new = os.path.join(audio_dir, i)\n",
    "        for j in os.listdir(new):\n",
    "            new_ = os.path.join(new, j)\n",
    "            for k in os.listdir(new_):\n",
    "                audioFile_list.append(os.path.join(new_,k))\n",
    "                label_list.append(i)\n",
    "                l = k.split('.')[0]+'.TextGrid'\n",
    "                annotation_list.append(os.path.join(annot_dir,i, j, l))\n",
    "    \n"
   ]
  },
  {
   "cell_type": "code",
   "execution_count": 36,
   "metadata": {},
   "outputs": [],
   "source": [
    "dataset_df = pd.DataFrame({'audio_file':audioFile_list, 'annotation_file':annotation_list, 'label':label_list})"
   ]
  },
  {
   "cell_type": "code",
   "execution_count": 39,
   "metadata": {},
   "outputs": [],
   "source": [
    "dataset_df.to_csv('kaggle_VAD.csv', index=False)"
   ]
  }
 ],
 "metadata": {
  "kernelspec": {
   "display_name": "whisperx_",
   "language": "python",
   "name": "python3"
  },
  "language_info": {
   "codemirror_mode": {
    "name": "ipython",
    "version": 3
   },
   "file_extension": ".py",
   "mimetype": "text/x-python",
   "name": "python",
   "nbconvert_exporter": "python",
   "pygments_lexer": "ipython3",
   "version": "3.10.14"
  }
 },
 "nbformat": 4,
 "nbformat_minor": 2
}
